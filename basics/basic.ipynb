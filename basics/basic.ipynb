{
 "cells": [
  {
   "cell_type": "markdown",
   "metadata": {},
   "source": [
    "## Mutable & Immutable Types"
   ]
  },
  {
   "cell_type": "code",
   "execution_count": 13,
   "metadata": {},
   "outputs": [
    {
     "name": "stdout",
     "output_type": "stream",
     "text": [
      "*Integers*\n",
      "4536117968\n",
      "4536118000\n",
      "**String**\n",
      "4569237464\n",
      "4569251376\n",
      "***list***\n",
      "4568255368\n",
      "4568255368\n"
     ]
    }
   ],
   "source": [
    "print(\"Integers\".center(10,\"*\"))\n",
    "a=1\n",
    "print(id(a))\n",
    "a+=1\n",
    "print(id(a))\n",
    "print(\"String\".center(10,\"*\"))\n",
    "my_str=\"hello\"\n",
    "print(id(my_str))\n",
    "my_str+=\" guys\"\n",
    "print(id(my_str))\n",
    "print(\"list\".center(10,\"*\"))\n",
    "a=[1.0]\n",
    "print(id(a))\n",
    "a+=[2.0]\n",
    "print(id(a))"
   ]
  },
  {
   "cell_type": "markdown",
   "metadata": {},
   "source": [
    "> **Mutable types** : _list, dict, set_<br>\n",
    " **Immutable types** : _int,float,complex,string,tuple,frozen set_"
   ]
  },
  {
   "cell_type": "code",
   "execution_count": 1,
   "metadata": {},
   "outputs": [
    {
     "name": "stdout",
     "output_type": "stream",
     "text": [
      "[[1, 1], [2, 2], [3, 3]]\n",
      "[1, 2, 3]\n"
     ]
    }
   ],
   "source": [
    "a = [[1],[2],[3]]\n",
    "b = [1,2,3]\n",
    "for i in a:\n",
    "    i*=2\n",
    "for k in b:\n",
    "    k*=2\n",
    "print(a)\n",
    "print(b)"
   ]
  },
  {
   "cell_type": "code",
   "execution_count": 2,
   "metadata": {},
   "outputs": [
    {
     "name": "stdout",
     "output_type": "stream",
     "text": [
      "4536126128\n",
      "4536126128\n",
      "True\n",
      "True\n",
      "**********\n",
      "4569179024\n",
      "4569179056\n",
      "False\n",
      "False\n"
     ]
    }
   ],
   "source": [
    "a = 256\n",
    "b = 256\n",
    "print(id(a))\n",
    "print(id(b))\n",
    "print(id(a)==id(b))\n",
    "print(a is b)\n",
    "print(\"*\"*10)\n",
    "a = 257\n",
    "b = 257\n",
    "print(id(a))\n",
    "print(id(b))\n",
    "print(id(a)==id(b))\n",
    "print(a is b)"
   ]
  },
  {
   "cell_type": "markdown",
   "metadata": {},
   "source": [
    "\n",
    ">The current implementation keeps an array of integer objects for all integers between **-5 and 256**, when you create an int in that range you actually just get back a reference to the existing object"
   ]
  },
  {
   "cell_type": "code",
   "execution_count": null,
   "metadata": {
    "collapsed": true
   },
   "outputs": [],
   "source": [
    ""
   ]
  }
 ],
 "metadata": {
  "kernelspec": {
   "display_name": "Python 3",
   "language": "python",
   "name": "python3"
  },
  "language_info": {
   "codemirror_mode": {
    "name": "ipython",
    "version": 3
   },
   "file_extension": ".py",
   "mimetype": "text/x-python",
   "name": "python",
   "nbconvert_exporter": "python",
   "pygments_lexer": "ipython3",
   "version": "3.6.1"
  }
 },
 "nbformat": 4,
 "nbformat_minor": 0
}
